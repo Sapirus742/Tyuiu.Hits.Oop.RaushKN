{
 "cells": [
  {
   "cell_type": "markdown",
   "metadata": {},
   "source": [
    "<h1 style=\"color:DodgerBlue\">Индивидальный проект</h1>"
   ]
  },
  {
   "cell_type": "markdown",
   "metadata": {},
   "source": [
    "<h2 style=\"color:DodgerBlue\">Название проекта:</h2>\n",
    "\n",
    "----\n",
    "\n",
    "### Вариант задания № 18\n"
   ]
  },
  {
   "cell_type": "markdown",
   "metadata": {},
   "source": [
    "<h2 style=\"color:DodgerBlue\">Описание проекта:</h2>\n",
    "\n",
    "----\n",
    "\n",
    "Описание задачи: \n",
    "Создать базовый класс Review в C#, который будет представлять отзывы о продуктах или услугах. На основе этого класса разработать 2-3 производных класса, демонстрирующих принципы наследования и полиморфизма. В каждом из классов должны быть реализованы новые атрибуты и методы, а также переопределены некоторые методы базового класса для демонстрации полиморфизма. \n",
    "\n",
    "Требования к базовому классу Review: \n",
    "\n",
    "    • Атрибуты: ID отзыва (ReviewId), Текст отзыва (Text), Рейтинг (Rating). \n",
    "    • Методы: \n",
    "        o DisplayReview(): метод для отображения отзыва. \n",
    "        o RateProduct(): метод для присвоения рейтинга продукту. \n",
    "        o GetReviewDetails(): метод для получения деталей отзыва. \n",
    "\n",
    "Требования к производным классам: \n",
    "1. Отзыв Обслуживания (ServiceReview): Должен содержать дополнительные атрибуты, такие как Дата      посещения (VisitDate). Метод DisplayReview() должен быть переопределен для включения даты посещения в отображение отзыва. \n",
    "2. Отзыв Товара (ProductReview): Должен содержать дополнительные атрибуты, такие как Идентификатор продукта (ProductId). Метод RateProduct() должен быть переопределен для связывания рейтинга с конкретным продуктом. \n",
    "3. Отзыв Услуги (ServiceReview) (если требуется третий класс): Должен содержать дополнительные атрибуты, такие как Время начала услуги (StartTime). Метод GetReviewDetails() должен быть переопределен для отображения времени начала услуги вместе с другими деталями отзыва. \n"
   ]
  },
  {
   "cell_type": "markdown",
   "metadata": {},
   "source": [
    "<h2 style=\"color:DodgerBlue\">Реализация:</h2>\n",
    "\n",
    "----"
   ]
  },
  {
   "cell_type": "code",
   "execution_count": 23,
   "metadata": {
    "dotnet_interactive": {
     "language": "csharp"
    },
    "polyglot_notebook": {
     "kernelName": "csharp"
    }
   },
   "outputs": [
    {
     "name": "stdout",
     "output_type": "stream",
     "text": [
      "\n",
      "ID отзыва на обслуживание: 1\n",
      "Рейтинг: 4 из 5\n",
      "Текст отзыва: Хороший отзыв\n",
      "Дата посещения: 15.01.1997\n",
      "\n",
      "ID отзыва: 2, ID товара: 503, Рейтинг: 3 из 5, Текст отзыва: Нормальный отзыв\n",
      "\n",
      "ID отзыва на услугу: 3\n",
      "Время начала услуги: 12:14\n",
      "Рейтинг: 2 из 5\n",
      "Текст отзыва: Плохой отзыв\n"
     ]
    }
   ],
   "source": [
    "using System;\n",
    "\n",
    "public class Review\n",
    "{\n",
    "    public int ReviewId { get; set; }\n",
    "    public string Text { get; set; }\n",
    "    public int Rating { get; set; }\n",
    "\n",
    "    public Review(int reviewId, string text, int rating)\n",
    "    {\n",
    "        ReviewId = reviewId;\n",
    "        Text = text;\n",
    "        Rating = rating;\n",
    "    }\n",
    "\n",
    "    public virtual void DisplayReview()\n",
    "    {\n",
    "        Console.WriteLine($\"ID отзыва: {ReviewId}\");\n",
    "        Console.WriteLine($\"Рейтинг: {Rating} из 5\");\n",
    "        Console.WriteLine($\"Текст отзыва: {Text}\");\n",
    "    }\n",
    "\n",
    "    public virtual void RateProduct(int newRating)\n",
    "    {\n",
    "        if (newRating >= 1 && newRating <= 5)\n",
    "        {\n",
    "            Rating = newRating;\n",
    "            Console.WriteLine($\"Рейтинг обновлен: {Rating} из 5\");\n",
    "        }\n",
    "        else\n",
    "        {\n",
    "            Console.WriteLine(\"Рейтинг должен быть от 1 до 5\");\n",
    "        }\n",
    "    }\n",
    "\n",
    "    public virtual string GetReviewDetails()\n",
    "    {\n",
    "        return $\"ID отзыва: {ReviewId}, Рейтинг: {Rating} из 5, Текст отзыва: {Text}\";\n",
    "    }\n",
    "}\n",
    "\n",
    "public class ServiceReview : Review\n",
    "{\n",
    "    public DateTime VisitDate { get; set; }\n",
    "\n",
    "    public ServiceReview(int reviewId, string text, int rating, DateTime visitDate)\n",
    "        : base(reviewId, text, rating)\n",
    "    {\n",
    "        /*ReviewId = reviewId;\n",
    "        Text = text;\n",
    "        Rating = rating;*/\n",
    "        VisitDate = visitDate;\n",
    "    }\n",
    "\n",
    "    public override void DisplayReview()\n",
    "    {\n",
    "        Console.WriteLine($\"\\nID отзыва на обслуживание: {ReviewId}\");\n",
    "        Console.WriteLine($\"Рейтинг: {Rating} из 5\");\n",
    "        Console.WriteLine($\"Текст отзыва: {Text}\");\n",
    "        Console.WriteLine($\"Дата посещения: {VisitDate:dd.MM.yyyy}\");\n",
    "    }\n",
    "\n",
    "    public override string GetReviewDetails()\n",
    "    {\n",
    "        return $\"\\nID отзыва: {ReviewId}, Рейтинг: {Rating} из 5, Текст отзыва: {Text}, Дата посещения: {VisitDate:dd.MM.yyyy}\";\n",
    "    }\n",
    "}\n",
    "\n",
    "public class ProductReview : Review\n",
    "{\n",
    "    public int ProductID { get; set; }\n",
    "\n",
    "    public ProductReview(int reviewId, string text, int rating, int productId)\n",
    "        : base(reviewId, text, rating)\n",
    "    {\n",
    "        /*ReviewId = reviewId;\n",
    "        Text = text;\n",
    "        Rating = rating;*/\n",
    "        ProductID = productId;\n",
    "    }\n",
    "\n",
    "    public override void RateProduct(int newRating)\n",
    "    {\n",
    "        if (newRating >= 1 && newRating <= 5)\n",
    "        {\n",
    "            Rating = newRating;\n",
    "            Console.WriteLine($\"Рейтинг для товара {ProductID} обновлен: {Rating} из 5\");\n",
    "        }\n",
    "        else\n",
    "        {\n",
    "            Console.WriteLine($\"Рейтинг должен быть от 1 до 5\");\n",
    "        }\n",
    "    }\n",
    "\n",
    "    public override string GetReviewDetails()\n",
    "    {\n",
    "        return $\"\\nID отзыва: {ReviewId}, ID товара: {ProductID}, Рейтинг: {Rating} из 5, Текст отзыва: {Text}\";\n",
    "    }\n",
    "}\n",
    "\n",
    "public class Service_Review : Review\n",
    "{\n",
    "    public DateTime StartTime { get; set; }\n",
    "\n",
    "    public Service_Review( int reviewId, string text, int rating, DateTime startTime)\n",
    "        : base(reviewId, text, rating)\n",
    "    {\n",
    "        /*ReviewId = reviewId;\n",
    "        Text = text;\n",
    "        Rating = rating;*/\n",
    "        StartTime = startTime;\n",
    "    }\n",
    "\n",
    "    public override void DisplayReview()\n",
    "    {\n",
    "        Console.WriteLine($\"\\nID отзыва на услугу: {ReviewId}\");\n",
    "        Console.WriteLine($\"Время начала услуги: {StartTime:HH:mm}\");\n",
    "        Console.WriteLine($\"Рейтинг: {Rating} из 5\");\n",
    "        Console.WriteLine($\"Текст отзыва: {Text}\");\n",
    "    }\n",
    "\n",
    "    public override string GetReviewDetails()\n",
    "    {\n",
    "        return $\"\\nID отзыва: {ReviewId}, Рейтинг: {Rating} из 5, Текст отзыва: {Text}, Время начала услуги: {StartTime:HH:mm}\";\n",
    "    }\n",
    "}\n",
    "\n",
    "\n",
    "ServiceReview one = new ServiceReview(1, \"Хороший отзыв\", 4, new DateTime(1997, 1, 15));\n",
    "ProductReview two = new ProductReview(2, \"Нормальный отзыв\", 3, 503);\n",
    "Service_Review three = new Service_Review(3, \"Плохой отзыв\", 2, new DateTime(2024, 1, 15, 12, 14, 0));\n",
    "one.DisplayReview();\n",
    "Console.WriteLine(two.GetReviewDetails());\n",
    "three.DisplayReview();\n"
   ]
  }
 ],
 "metadata": {
  "kernelspec": {
   "display_name": ".NET (C#)",
   "language": "C#",
   "name": ".net-csharp"
  },
  "polyglot_notebook": {
   "kernelInfo": {
    "defaultKernelName": "csharp",
    "items": [
     {
      "aliases": [],
      "languageName": "csharp",
      "name": "csharp"
     }
    ]
   }
  }
 },
 "nbformat": 4,
 "nbformat_minor": 2
}
